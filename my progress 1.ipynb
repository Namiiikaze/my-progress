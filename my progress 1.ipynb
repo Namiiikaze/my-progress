{
 "cells": [
  {
   "cell_type": "markdown",
   "id": "e7947f16-ff9c-401f-9b6a-292af57dc3d3",
   "metadata": {},
   "source": [
    "# `while` loop"
   ]
  },
  {
   "cell_type": "markdown",
   "id": "3a5acc3d-3326-433b-a16b-f22401f8f3b2",
   "metadata": {},
   "source": [
    "I will repeat the loop until a maximum of 6 positive numbers over 100 have been generated.  \n",
    "The function will generate random numbers from -100 to 200. I don't know how many attemps will be needed to obtain 6 numbers > 100. Because I don't know the exact number of iterations, I will use a `while` loop."
   ]
  },
  {
   "cell_type": "code",
   "execution_count": 2,
   "id": "f6f4ce11-ffe9-4f32-bd21-f64d31052e63",
   "metadata": {},
   "outputs": [],
   "source": [
    "def generate_random_num():\n",
    "\treturn np.random.randint(-100,200)"
   ]
  },
  {
   "cell_type": "code",
   "execution_count": 3,
   "id": "fe0c7850-a16b-4fce-9933-ba3c568e0253",
   "metadata": {},
   "outputs": [],
   "source": [
    "numbers_over_100 = 0\n",
    "attemps = 0"
   ]
  },
  {
   "cell_type": "code",
   "execution_count": 4,
   "id": "62a72952-f773-4431-a395-2cd9ef038fd6",
   "metadata": {},
   "outputs": [
    {
     "name": "stdout",
     "output_type": "stream",
     "text": [
      "Generated number was: -29\n",
      "I got a number over 100: that was 107. 5 more numbers are needed to finish\n",
      "Generated number was: 74\n",
      "I got a number over 100: that was 110. 4 more numbers are needed to finish\n",
      "Generated number was: -90\n",
      "I got a number over 100: that was 135. 3 more numbers are needed to finish\n",
      "Generated number was: -62\n",
      "I got a number over 100: that was 120. 2 more numbers are needed to finish\n",
      "Generated number was: -42\n",
      "Generated number was: -82\n",
      "Generated number was: -45\n",
      "Generated number was: -59\n",
      "I got a number over 100: that was 145. 1 more numbers are needed to finish\n",
      "Generated number was: -71\n",
      "Generated number was: -69\n",
      "Generated number was: 25\n",
      "Generated number was: 48\n",
      "Generated number was: -42\n",
      "Generated number was: -58\n",
      "Generated number was: 72\n",
      "I got a number over 100: that was 160. 0 more numbers are needed to finish\n",
      "\n",
      "**************************************************\n",
      "It took 21 to get 6 numbers over 100!\n"
     ]
    }
   ],
   "source": [
    "while numbers_over_100 < 6:\n",
    "\trandom_num = generate_random_num()\n",
    "\tattemps += 1\n",
    "\tif random_num <= 100:\n",
    "\t\tprint(f'Generated number was: {random_num}')\n",
    "\telse:\n",
    "\t\tnumbers_over_100 += 1\n",
    "\t\tprint(f'I got a number over 100: that was {random_num}. {6 - numbers_over_100} more numbers are needed to finish')\n",
    "print('\\n' + '*'*50)\n",
    "print(f'It took {attemps} to get 6 numbers over 100!')"
   ]
  },
  {
   "cell_type": "markdown",
   "id": "a420e076-6dcd-40d2-897f-531b2e024c28",
   "metadata": {},
   "source": [
    "# `while True` loop"
   ]
  },
  {
   "cell_type": "markdown",
   "id": "6cf7e0c6-a803-474c-aec9-ec73558eabfe",
   "metadata": {},
   "source": [
    "In a `while True` loop, the condition is always met. So, theoretically, the loop would never end. If we want to break the infinite loop, we need to explictly say we want to `break` the loop."
   ]
  },
  {
   "cell_type": "code",
   "execution_count": 5,
   "id": "f5079208-0e72-4a8a-bc91-035121489473",
   "metadata": {},
   "outputs": [],
   "source": [
    "numbers_over_100 = 0\n",
    "attemps = 0"
   ]
  },
  {
   "cell_type": "markdown",
   "id": "cff2bf42-bcb4-4fb0-9161-a83cf3133ace",
   "metadata": {},
   "source": [
    "An infinite loop to get the same results as before, but using `while True`"
   ]
  },
  {
   "cell_type": "code",
   "execution_count": 7,
   "id": "f2d49781-197c-4069-ab1b-d1e466e851a8",
   "metadata": {},
   "outputs": [
    {
     "name": "stdout",
     "output_type": "stream",
     "text": [
      "Generated number was: -82\n",
      "Generated number was: 66\n",
      "Generated number was: 16\n",
      "Generated number was: -31\n",
      "Generated number was: 73\n",
      "I got a number over 100: that was 102. 4 more numbers are needed to finish\n",
      "Generated number was: -100\n",
      "I got a number over 100: that was 145. 3 more numbers are needed to finish\n",
      "I got a number over 100: that was 157. 2 more numbers are needed to finish\n",
      "Generated number was: 97\n",
      "I got a number over 100: that was 147. 1 more numbers are needed to finish\n",
      "I got a number over 100: that was 114. 0 more numbers are needed to finish\n",
      "\n",
      "**************************************************\n",
      "It took 13 to get 6 numbers over 100!\n"
     ]
    }
   ],
   "source": [
    "while True:\n",
    "\trandom_num = generate_random_num()\n",
    "\tattemps += 1\n",
    "\tif random_num <= 100:\n",
    "\t\tprint(f'Generated number was: {random_num}')\n",
    "\telse:\n",
    "\t\tnumbers_over_100 += 1\n",
    "\t\tprint(f'I got a number over 100: that was {random_num}. {6 - numbers_over_100} more numbers are needed to finish')\n",
    "\t\t\n",
    "\t\t# once I have generated just 6 numbers over 100,\n",
    "\t\t# I want to stop generating numbers and break the infinite loop\n",
    "\t\t# making use of the command break\n",
    "\t\tif numbers_over_100 ==6:\n",
    "\t\t\tbreak\n",
    "\t\t\t\n",
    "print('\\n' + '*'*50)\n",
    "print(f'It took {attemps} to get 6 numbers over 100!')"
   ]
  },
  {
   "cell_type": "code",
   "execution_count": null,
   "id": "11571c2e-d325-40b4-8174-4cbd024f2350",
   "metadata": {},
   "outputs": [],
   "source": []
  }
 ],
 "metadata": {
  "kernelspec": {
   "display_name": "Python 3 (ipykernel)",
   "language": "python",
   "name": "python3"
  },
  "language_info": {
   "codemirror_mode": {
    "name": "ipython",
    "version": 3
   },
   "file_extension": ".py",
   "mimetype": "text/x-python",
   "name": "python",
   "nbconvert_exporter": "python",
   "pygments_lexer": "ipython3",
   "version": "3.10.9"
  }
 },
 "nbformat": 4,
 "nbformat_minor": 5
}
